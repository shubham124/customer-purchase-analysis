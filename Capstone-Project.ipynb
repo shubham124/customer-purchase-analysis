{
 "cells": [
  {
   "cell_type": "markdown",
   "metadata": {
    "application/vnd.databricks.v1+cell": {
     "cellMetadata": {},
     "inputWidgets": {},
     "nuid": "178dde15-0f03-4277-b717-f0641957d548",
     "showTitle": false,
     "tableResultSettingsMap": {},
     "title": ""
    }
   },
   "source": [
    "## Load Data"
   ]
  },
  {
   "cell_type": "code",
   "execution_count": 0,
   "metadata": {
    "application/vnd.databricks.v1+cell": {
     "cellMetadata": {
      "byteLimit": 2048000,
      "rowLimit": 10000
     },
     "inputWidgets": {},
     "nuid": "ca6612f1-3846-43df-945e-d92419cba683",
     "showTitle": false,
     "tableResultSettingsMap": {},
     "title": ""
    }
   },
   "outputs": [],
   "source": [
    "from pyspark.sql.functions import col\n",
    "\n",
    "customers_df = spark.read.csv(path=\"/Volumes/quickstart_catalog/quickstart_schema/my_dataset/dataset/customer_insights_db/customers.csv\",\n",
    "                              header=True,\n",
    "                              inferSchema=True)\n",
    "customers_df.printSchema()\n",
    "customers_df.display()\n",
    "###\n",
    "products_df = spark.read.csv(path=\"/Volumes/quickstart_catalog/quickstart_schema/my_dataset/dataset/customer_insights_db/products.csv\",\n",
    "                              header=True,\n",
    "                              inferSchema=True)\n",
    "products_df.printSchema()\n",
    "products_df.display()\n",
    "###\n",
    "transactions_df = spark.read.csv(path=\"/Volumes/quickstart_catalog/quickstart_schema/my_dataset/dataset/customer_insights_db/transactions.csv\",\n",
    "                              header=True,\n",
    "                              inferSchema=True)\n",
    "transactions_df.printSchema()\n",
    "transactions_df.display()\n"
   ]
  },
  {
   "cell_type": "markdown",
   "metadata": {
    "application/vnd.databricks.v1+cell": {
     "cellMetadata": {},
     "inputWidgets": {},
     "nuid": "539e5108-a211-4e7c-93af-6a6b18854616",
     "showTitle": false,
     "tableResultSettingsMap": {},
     "title": ""
    }
   },
   "source": [
    "## Task 1 - Data Cleaning & Preparation "
   ]
  },
  {
   "cell_type": "markdown",
   "metadata": {
    "application/vnd.databricks.v1+cell": {
     "cellMetadata": {},
     "inputWidgets": {},
     "nuid": "22e8dd17-d650-468b-b035-be17f0ecb039",
     "showTitle": false,
     "tableResultSettingsMap": {},
     "title": ""
    }
   },
   "source": [
    "### Problem 1\n",
    "The dataset contains invalid or inconsistent data, such as emails with @@, missing dates of birth (dob), and NULL transaction dates.\n",
    "You need to build a data quality pipeline to:\n",
    "Correct malformed emails.\n"
   ]
  },
  {
   "cell_type": "code",
   "execution_count": 0,
   "metadata": {
    "application/vnd.databricks.v1+cell": {
     "cellMetadata": {
      "byteLimit": 2048000,
      "rowLimit": 10000
     },
     "inputWidgets": {},
     "nuid": "99182679-0ac7-4c2a-b96f-570baea2437b",
     "showTitle": false,
     "tableResultSettingsMap": {},
     "title": ""
    }
   },
   "outputs": [],
   "source": [
    "from pyspark.sql.functions import regexp_replace \n",
    "customers_df_email = customers_df.withColumn(\"email\",regexp_replace(col(\"email\"), \"@@\", \"@\"))\n",
    "customers_df_email.display()"
   ]
  },
  {
   "cell_type": "markdown",
   "metadata": {
    "application/vnd.databricks.v1+cell": {
     "cellMetadata": {},
     "inputWidgets": {},
     "nuid": "3c0ce0e7-ae1d-4983-a604-2c1282954819",
     "showTitle": false,
     "tableResultSettingsMap": {},
     "title": ""
    }
   },
   "source": [
    "### Problem 2\n",
    "Replace missing discount values with 0.\n"
   ]
  },
  {
   "cell_type": "code",
   "execution_count": 0,
   "metadata": {
    "application/vnd.databricks.v1+cell": {
     "cellMetadata": {
      "byteLimit": 2048000,
      "rowLimit": 10000
     },
     "inputWidgets": {},
     "nuid": "8930e55e-0507-420d-8b83-49ab42eb10ae",
     "showTitle": false,
     "tableResultSettingsMap": {},
     "title": ""
    }
   },
   "outputs": [],
   "source": [
    "transactions_df_discount = transactions_df.na.fill({\"discount\": 0.0})\n",
    "transactions_df_discount.display()"
   ]
  },
  {
   "cell_type": "markdown",
   "metadata": {
    "application/vnd.databricks.v1+cell": {
     "cellMetadata": {},
     "inputWidgets": {},
     "nuid": "7f6de9a2-c0ea-4911-8dd4-37f428645fd6",
     "showTitle": false,
     "tableResultSettingsMap": {},
     "title": ""
    }
   },
   "source": [
    "### Problem 3\n",
    "Handle missing dob by flagging customers for manual enrichment.\n",
    "\n"
   ]
  },
  {
   "cell_type": "code",
   "execution_count": 0,
   "metadata": {
    "application/vnd.databricks.v1+cell": {
     "cellMetadata": {
      "byteLimit": 2048000,
      "rowLimit": 10000
     },
     "inputWidgets": {},
     "nuid": "7b953817-8e81-4954-9fbd-d072773c22fb",
     "showTitle": false,
     "tableResultSettingsMap": {},
     "title": ""
    }
   },
   "outputs": [],
   "source": [
    "from pyspark.sql.functions import lit, when\n",
    "\n",
    "customers_df.withColumn(\n",
    "    \"Customer_without_dob\",\n",
    "    when(col(\"dob\").isNull(), lit(\"Unknown dob\")).otherwise(lit(\"dob present\"))\n",
    ").display()"
   ]
  },
  {
   "cell_type": "markdown",
   "metadata": {
    "application/vnd.databricks.v1+cell": {
     "cellMetadata": {},
     "inputWidgets": {},
     "nuid": "0a4d2b3b-3abb-4de5-ba36-443174a85dff",
     "showTitle": false,
     "tableResultSettingsMap": {},
     "title": ""
    }
   },
   "source": [
    "### Problem 4\n",
    "Flag transactions with missing txn_date as unprocessed."
   ]
  },
  {
   "cell_type": "code",
   "execution_count": 0,
   "metadata": {
    "application/vnd.databricks.v1+cell": {
     "cellMetadata": {
      "byteLimit": 2048000,
      "rowLimit": 10000
     },
     "inputWidgets": {},
     "nuid": "cd787628-0bce-4f99-a2d2-fc934de8b78d",
     "showTitle": false,
     "tableResultSettingsMap": {},
     "title": ""
    }
   },
   "outputs": [],
   "source": [
    "transactions_df.withColumn(\n",
    "    \"trasaction_processed\",\n",
    "    when(col(\"txn_date\").isNotNull(), lit(\"processed\")).otherwise(lit(\"not processed\")),\n",
    ").display()"
   ]
  },
  {
   "cell_type": "markdown",
   "metadata": {
    "application/vnd.databricks.v1+cell": {
     "cellMetadata": {},
     "inputWidgets": {},
     "nuid": "533ca22e-6fc1-450c-b0f3-cec00366deae",
     "showTitle": false,
     "tableResultSettingsMap": {},
     "title": ""
    }
   },
   "source": [
    "## Task 2 - Customer Retention Analysis"
   ]
  },
  {
   "cell_type": "markdown",
   "metadata": {
    "application/vnd.databricks.v1+cell": {
     "cellMetadata": {},
     "inputWidgets": {},
     "nuid": "134c9778-28f5-42d1-9d28-f49b2bcd0dce",
     "showTitle": false,
     "tableResultSettingsMap": {},
     "title": ""
    }
   },
   "source": [
    "### Problem 1\n",
    "Management wants to understand repeat customer behavior.\n"
   ]
  },
  {
   "cell_type": "code",
   "execution_count": 0,
   "metadata": {
    "application/vnd.databricks.v1+cell": {
     "cellMetadata": {
      "byteLimit": 2048000,
      "rowLimit": 10000
     },
     "inputWidgets": {},
     "nuid": "3d8301b4-3290-4234-802a-2650079d3d50",
     "showTitle": false,
     "tableResultSettingsMap": {},
     "title": ""
    }
   },
   "outputs": [],
   "source": [
    "transactions_df.groupBy(col(\"customer_id\")).count().orderBy(col(\"count\").desc()).display()"
   ]
  },
  {
   "cell_type": "markdown",
   "metadata": {
    "application/vnd.databricks.v1+cell": {
     "cellMetadata": {},
     "inputWidgets": {},
     "nuid": "76d3e2c5-7567-4d20-9258-7b7005af3016",
     "showTitle": false,
     "tableResultSettingsMap": {},
     "title": ""
    }
   },
   "source": [
    "### Problem 2\n",
    "Identify customers who have made more than one purchase and calculate their contribution to overall revenue."
   ]
  },
  {
   "cell_type": "code",
   "execution_count": 0,
   "metadata": {
    "application/vnd.databricks.v1+cell": {
     "cellMetadata": {
      "byteLimit": 2048000,
      "rowLimit": 10000
     },
     "inputWidgets": {},
     "nuid": "f5a1be0e-0cb2-40d3-aad0-f8568318d081",
     "showTitle": false,
     "tableResultSettingsMap": {},
     "title": ""
    }
   },
   "outputs": [],
   "source": [
    "from pyspark.sql.functions import sum, count\n",
    "\n",
    "txn_customers_df = transactions_df.join(customers_df, on=\"customer_id\", how=\"inner\")\n",
    "joined_df = txn_customers_df.join(products_df, on=\"product_id\", how=\"inner\")\n",
    "customers_more_than_one_purchase = (\n",
    "    joined_df.groupBy(\"customer_id\").count().filter(col(\"count\") > 1)\n",
    ")\n",
    "customers_more_than_one_purchase.display()\n",
    "txn_revenue = joined_df.na.fill({\"discount\": 0.0}).withColumn(\n",
    "    \"revenue\", (col(\"price\") * col(\"quantity\")) * (1 - col(\"discount\"))\n",
    ")\n",
    "txn_revenue.select(col(\"customer_id\"), col(\"txn_id\"), col(\"revenue\")).display()\n",
    "txn_revenue.select(col(\"customer_id\"), col(\"txn_id\"), col(\"revenue\")).groupBy(\n",
    "    \"customer_id\"\n",
    ").agg(\n",
    "    sum(col(\"revenue\")).alias(\"total_revenue\"), count(\"txn_id\").alias(\"txn_count\")\n",
    ").filter(\n",
    "    col(\"txn_count\") > 1\n",
    ").display()"
   ]
  },
  {
   "cell_type": "markdown",
   "metadata": {
    "application/vnd.databricks.v1+cell": {
     "cellMetadata": {},
     "inputWidgets": {},
     "nuid": "4d160273-3e75-4af1-84ed-f07d9a4035b5",
     "showTitle": false,
     "tableResultSettingsMap": {},
     "title": ""
    }
   },
   "source": [
    "### Problem 3\n",
    "Provide insights on which cities have the highest concentration of repeat customers."
   ]
  },
  {
   "cell_type": "code",
   "execution_count": 0,
   "metadata": {
    "application/vnd.databricks.v1+cell": {
     "cellMetadata": {
      "byteLimit": 2048000,
      "rowLimit": 10000
     },
     "inputWidgets": {},
     "nuid": "8d6f04c6-7ddc-4e51-9d21-559eafcfb9f6",
     "showTitle": false,
     "tableResultSettingsMap": {},
     "title": ""
    }
   },
   "outputs": [],
   "source": [
    "repeat_cus_city_df = (\n",
    "    joined_df.groupBy(col(\"customer_id\"), col(\"city\"))\n",
    "    .count()\n",
    "    .withColumn(\"Repeat_customer\", when(col(\"count\") > 1, 1).otherwise(0))\n",
    ")\n",
    "repeat_cus_city_df.groupBy(col(\"city\")).agg(\n",
    "    sum(col(\"Repeat_customer\")).alias(\"repeat_customer_concentration\")\n",
    ").display()"
   ]
  },
  {
   "cell_type": "markdown",
   "metadata": {
    "application/vnd.databricks.v1+cell": {
     "cellMetadata": {},
     "inputWidgets": {},
     "nuid": "aa9200c6-0206-48f9-a910-5cf02f173084",
     "showTitle": false,
     "tableResultSettingsMap": {},
     "title": ""
    }
   },
   "source": [
    "## Task 3 - Revenue & Profitability by Category"
   ]
  },
  {
   "cell_type": "markdown",
   "metadata": {
    "application/vnd.databricks.v1+cell": {
     "cellMetadata": {},
     "inputWidgets": {},
     "nuid": "6d03a4ef-ad54-4f46-82d4-a44633c1552d",
     "showTitle": false,
     "tableResultSettingsMap": {},
     "title": ""
    }
   },
   "source": [
    "### Problem 1\n",
    "product categories drive the most revenue"
   ]
  },
  {
   "cell_type": "code",
   "execution_count": 0,
   "metadata": {
    "application/vnd.databricks.v1+cell": {
     "cellMetadata": {
      "byteLimit": 2048000,
      "rowLimit": 10000
     },
     "inputWidgets": {},
     "nuid": "66cb2fa8-8fb6-49c6-8a58-fea6ed46dbe4",
     "showTitle": false,
     "tableResultSettingsMap": {},
     "title": ""
    }
   },
   "outputs": [],
   "source": [
    "product_categories_by_revenue = (\n",
    "    txn_revenue.groupBy(col(\"category\"))\n",
    "    .agg(sum(col(\"revenue\")).alias(\"total_revenue_by_category\"))\n",
    "    .sort(col(\"total_revenue_by_category\"), ascending=False)\n",
    ")\n",
    "product_categories_by_revenue.display()"
   ]
  },
  {
   "cell_type": "markdown",
   "metadata": {
    "application/vnd.databricks.v1+cell": {
     "cellMetadata": {},
     "inputWidgets": {},
     "nuid": "7db4a85c-019a-4766-8a64-08bf31b99c20",
     "showTitle": false,
     "tableResultSettingsMap": {},
     "title": ""
    }
   },
   "source": [
    "### Problem 2\n",
    "Compute estimated profit, using a margin:\n",
    "Electronics: 10%\n",
    "Apparel: 20%\n",
    "Kitchen: 30%"
   ]
  },
  {
   "cell_type": "code",
   "execution_count": 0,
   "metadata": {
    "application/vnd.databricks.v1+cell": {
     "cellMetadata": {
      "byteLimit": 2048000,
      "rowLimit": 10000
     },
     "inputWidgets": {},
     "nuid": "438e6eaa-af27-4985-87a6-8124b7ddee3f",
     "showTitle": false,
     "tableResultSettingsMap": {},
     "title": ""
    }
   },
   "outputs": [],
   "source": [
    "product_category_profit_margin = product_categories_by_revenue.withColumn(\n",
    "    \"profit\",\n",
    "    when(col(\"category\") == \"electronics\", col(\"total_revenue_by_category\") * 0.1)\n",
    "    .when(col(\"category\") == \"Apparel\", col(\"total_revenue_by_category\") * 0.2)\n",
    "    .otherwise(col(\"total_revenue_by_category\") * 0.3),\n",
    ")\n",
    "product_category_profit_margin.display()"
   ]
  },
  {
   "cell_type": "markdown",
   "metadata": {
    "application/vnd.databricks.v1+cell": {
     "cellMetadata": {},
     "inputWidgets": {},
     "nuid": "119f6cb8-5e67-4309-818f-aa6d21711054",
     "showTitle": false,
     "tableResultSettingsMap": {},
     "title": ""
    }
   },
   "source": [
    "### Problem 3\n",
    "Provide a summary showing total sales amount, total profit, and average discount by category."
   ]
  },
  {
   "cell_type": "code",
   "execution_count": 0,
   "metadata": {
    "application/vnd.databricks.v1+cell": {
     "cellMetadata": {
      "byteLimit": 2048000,
      "rowLimit": 10000
     },
     "inputWidgets": {},
     "nuid": "496522cd-1d01-4f52-a503-34484e839653",
     "showTitle": false,
     "tableResultSettingsMap": {},
     "title": ""
    }
   },
   "outputs": [],
   "source": [
    "from pyspark.sql.functions import avg ,round\n",
    "\n",
    "summary_by_category = (\n",
    "    txn_revenue.groupBy(col(\"category\"))\n",
    "    .agg(\n",
    "        sum(col(\"revenue\")).alias(\"total_sales\"),\n",
    "        round(avg(col(\"discount\")),2).alias(\"average_discount\"),\n",
    "    )\n",
    "    .join(product_category_profit_margin, on=\"category\", how=\"inner\")\n",
    ")\n",
    "summary_by_category.select(\"category\", \"total_sales\", \"average_discount\", \"profit\").display()"
   ]
  },
  {
   "cell_type": "markdown",
   "metadata": {
    "application/vnd.databricks.v1+cell": {
     "cellMetadata": {},
     "inputWidgets": {},
     "nuid": "ecf0b017-b69b-45e3-99eb-27fd969b7f69",
     "showTitle": false,
     "tableResultSettingsMap": {},
     "title": ""
    }
   },
   "source": [
    "## Task 4 - Discount Effectiveness"
   ]
  },
  {
   "cell_type": "markdown",
   "metadata": {
    "application/vnd.databricks.v1+cell": {
     "cellMetadata": {},
     "inputWidgets": {},
     "nuid": "ac98a1bd-4aac-4de3-895f-4bbb7b972ef9",
     "showTitle": false,
     "tableResultSettingsMap": {},
     "title": ""
    }
   },
   "source": [
    "## Task 6 - Inactive Customers"
   ]
  },
  {
   "cell_type": "markdown",
   "metadata": {
    "application/vnd.databricks.v1+cell": {
     "cellMetadata": {},
     "inputWidgets": {},
     "nuid": "97965b8d-632b-44fc-a32e-892d968ab423",
     "showTitle": false,
     "tableResultSettingsMap": {},
     "title": ""
    }
   },
   "source": [
    "### Problem 1 \n",
    "Identify customers who signed up over a year ago but have made only one purchase."
   ]
  },
  {
   "cell_type": "code",
   "execution_count": 0,
   "metadata": {
    "application/vnd.databricks.v1+cell": {
     "cellMetadata": {
      "byteLimit": 2048000,
      "rowLimit": 10000
     },
     "inputWidgets": {},
     "nuid": "020e20ba-ac8a-4765-8de2-3246040f5b29",
     "showTitle": false,
     "tableResultSettingsMap": {},
     "title": ""
    }
   },
   "outputs": [],
   "source": [
    "from pyspark.sql.functions import current_date, datediff\n",
    "\n",
    "inactive_cust = joined_df.filter(datediff(current_date(), col(\"signup_date\")) > 365).groupBy(\n",
    "    col(\"customer_id\")\n",
    ").agg(count(col(\"txn_id\")).alias(\"purchase_count\")).filter(\n",
    "    col(\"purchase_count\") == 1\n",
    ")\n",
    "\n",
    "inactive_customers = customers_df.join(inactive_cust,on=\"customer_id\",how=\"inner\")\n",
    "inactive_customers.display()"
   ]
  },
  {
   "cell_type": "markdown",
   "metadata": {
    "application/vnd.databricks.v1+cell": {
     "cellMetadata": {},
     "inputWidgets": {},
     "nuid": "0874be14-f961-47ff-ab0a-d6bd05e5e71d",
     "showTitle": false,
     "tableResultSettingsMap": {},
     "title": ""
    }
   },
   "source": [
    "### Problem 2\n",
    "Provide a list of these customers to the marketing team for targeted campaigns."
   ]
  },
  {
   "cell_type": "code",
   "execution_count": 0,
   "metadata": {
    "application/vnd.databricks.v1+cell": {
     "cellMetadata": {
      "byteLimit": 2048000,
      "rowLimit": 10000
     },
     "inputWidgets": {},
     "nuid": "3c5769e7-4606-4c05-a90f-aba574729670",
     "showTitle": false,
     "tableResultSettingsMap": {},
     "title": ""
    }
   },
   "outputs": [],
   "source": [
    "targated_customers = [row[\"name\"] for row in inactive_customers.select(col(\"name\")).collect()]\n",
    "print(targated_customers)\n",
    "inactive_customers.write.mode(\"overwrite\").option(\"header\",True).csv(\"/Volumes/quickstart_catalog/quickstart_schema/my_dataset/dataset/customer_insights_db/inactive_customers.csv\")\n"
   ]
  }
 ],
 "metadata": {
  "application/vnd.databricks.v1+notebook": {
   "computePreferences": null,
   "dashboards": [],
   "environmentMetadata": {
    "base_environment": "",
    "environment_version": "2"
   },
   "inputWidgetPreferences": null,
   "language": "python",
   "notebookMetadata": {
    "pythonIndentUnit": 4
   },
   "notebookName": "Capstone-Project",
   "widgets": {}
  },
  "language_info": {
   "name": "python"
  }
 },
 "nbformat": 4,
 "nbformat_minor": 0
}
